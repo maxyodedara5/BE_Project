{
 "cells": [
  {
   "cell_type": "code",
<<<<<<< HEAD
   "execution_count": 18,
   "metadata": {},
=======
   "execution_count": 12,
   "metadata": {
    "collapsed": true
   },
>>>>>>> 2d439fa2243ba4fa3e54aa67738530ca7122362c
   "outputs": [],
   "source": [
    "# import all the required packages\n",
    "import pandas as pd\n",
    "import numpy as np\n",
    "import matplotlib.pyplot as plt\n",
    "from collections import defaultdict,OrderedDict\n",
    "from sklearn import preprocessing\n",
    "from sklearn.metrics.pairwise import cosine_distances\n",
    "from operator import itemgetter\n",
<<<<<<< HEAD
    "from scipy.spatial.distance import cosine\n",
    "import json\n",
    "import pickle"
=======
    "from scipy.spatial.distance import cosine"
>>>>>>> 2d439fa2243ba4fa3e54aa67738530ca7122362c
   ]
  },
  {
   "cell_type": "code",
<<<<<<< HEAD
   "execution_count": 10,
=======
   "execution_count": 26,
>>>>>>> 2d439fa2243ba4fa3e54aa67738530ca7122362c
   "metadata": {},
   "outputs": [
    {
     "data": {
      "text/html": [
       "<div>\n",
       "<style>\n",
       "    .dataframe thead tr:only-child th {\n",
       "        text-align: right;\n",
       "    }\n",
       "\n",
       "    .dataframe thead th {\n",
       "        text-align: left;\n",
       "    }\n",
       "\n",
       "    .dataframe tbody tr th {\n",
       "        vertical-align: top;\n",
       "    }\n",
       "</style>\n",
       "<table border=\"1\" class=\"dataframe\">\n",
       "  <thead>\n",
       "    <tr style=\"text-align: right;\">\n",
       "      <th></th>\n",
       "      <th>id</th>\n",
       "      <th>phoneNo</th>\n",
       "      <th>location</th>\n",
       "      <th>occupation</th>\n",
       "      <th>certification</th>\n",
       "      <th>age</th>\n",
       "      <th>gender</th>\n",
       "      <th>type</th>\n",
       "      <th>availabilityPreference</th>\n",
       "      <th>availability</th>\n",
       "      <th>minimumWage</th>\n",
       "      <th>experience</th>\n",
       "      <th>clientsAttended</th>\n",
       "      <th>aadharCard</th>\n",
       "      <th>doorstepService</th>\n",
       "      <th>references</th>\n",
       "      <th>liscenced</th>\n",
       "      <th>shoppingliscence</th>\n",
       "    </tr>\n",
       "  </thead>\n",
       "  <tbody>\n",
       "    <tr>\n",
       "      <th>0</th>\n",
       "      <td>1</td>\n",
       "      <td>9326523642</td>\n",
       "      <td>Ambegaon</td>\n",
       "      <td>Accountant</td>\n",
       "      <td>true</td>\n",
       "      <td>26</td>\n",
       "      <td>Female</td>\n",
       "      <td>Full Time</td>\n",
       "      <td>Afternoon</td>\n",
       "      <td>Whole Day</td>\n",
       "      <td>9500</td>\n",
       "      <td>8</td>\n",
       "      <td>49</td>\n",
       "      <td>065660562714</td>\n",
       "      <td>no</td>\n",
       "      <td>false</td>\n",
       "      <td>false</td>\n",
       "      <td>true</td>\n",
       "    </tr>\n",
       "    <tr>\n",
       "      <th>1</th>\n",
       "      <td>2</td>\n",
       "      <td>7029738484</td>\n",
       "      <td>Ambegaon</td>\n",
       "      <td>Brick mason</td>\n",
       "      <td>true</td>\n",
       "      <td>36</td>\n",
       "      <td>Male</td>\n",
       "      <td>Part Time</td>\n",
       "      <td>Morning</td>\n",
       "      <td>Morning</td>\n",
       "      <td>4000</td>\n",
       "      <td>4</td>\n",
       "      <td>25</td>\n",
       "      <td>394728990924</td>\n",
       "      <td>no</td>\n",
       "      <td>false</td>\n",
       "      <td>false</td>\n",
       "      <td>true</td>\n",
       "    </tr>\n",
       "    <tr>\n",
       "      <th>2</th>\n",
       "      <td>3</td>\n",
       "      <td>8386070476</td>\n",
       "      <td>Ambegaon</td>\n",
       "      <td>Carpenter</td>\n",
       "      <td>true</td>\n",
       "      <td>31</td>\n",
       "      <td>Male</td>\n",
       "      <td>Part Time</td>\n",
       "      <td>Evening</td>\n",
       "      <td>Evening</td>\n",
       "      <td>5500</td>\n",
       "      <td>8</td>\n",
       "      <td>42</td>\n",
       "      <td>777556713881</td>\n",
       "      <td>yes</td>\n",
       "      <td>true</td>\n",
       "      <td>false</td>\n",
       "      <td>false</td>\n",
       "    </tr>\n",
       "    <tr>\n",
       "      <th>3</th>\n",
       "      <td>4</td>\n",
       "      <td>8208265762</td>\n",
       "      <td>Ambegaon</td>\n",
       "      <td>Cashier</td>\n",
       "      <td>false</td>\n",
       "      <td>20</td>\n",
       "      <td>Female</td>\n",
       "      <td>Part Time</td>\n",
       "      <td>Evening</td>\n",
       "      <td>Evening</td>\n",
       "      <td>2500</td>\n",
       "      <td>2</td>\n",
       "      <td>13</td>\n",
       "      <td>938143072796</td>\n",
       "      <td>no</td>\n",
       "      <td>true</td>\n",
       "      <td>false</td>\n",
       "      <td>true</td>\n",
       "    </tr>\n",
       "    <tr>\n",
       "      <th>4</th>\n",
       "      <td>5</td>\n",
       "      <td>9127458171</td>\n",
       "      <td>Ambegaon</td>\n",
       "      <td>Childcare Worker</td>\n",
       "      <td>true</td>\n",
       "      <td>33</td>\n",
       "      <td>Female</td>\n",
       "      <td>Full Time</td>\n",
       "      <td>Evening</td>\n",
       "      <td>Whole Day</td>\n",
       "      <td>2000</td>\n",
       "      <td>3</td>\n",
       "      <td>28</td>\n",
       "      <td>112614367501</td>\n",
       "      <td>yes</td>\n",
       "      <td>true</td>\n",
       "      <td>false</td>\n",
       "      <td>true</td>\n",
       "    </tr>\n",
       "  </tbody>\n",
       "</table>\n",
       "</div>"
      ],
      "text/plain": [
       "  id     phoneNo  location        occupation certification age  gender  \\\n",
       "0  1  9326523642  Ambegaon        Accountant          true  26  Female   \n",
       "1  2  7029738484  Ambegaon       Brick mason          true  36    Male   \n",
       "2  3  8386070476  Ambegaon         Carpenter          true  31    Male   \n",
       "3  4  8208265762  Ambegaon           Cashier         false  20  Female   \n",
       "4  5  9127458171  Ambegaon  Childcare Worker          true  33  Female   \n",
       "\n",
       "        type availabilityPreference availability minimumWage experience  \\\n",
       "0  Full Time              Afternoon    Whole Day        9500          8   \n",
       "1  Part Time                Morning      Morning        4000          4   \n",
       "2  Part Time                Evening      Evening        5500          8   \n",
       "3  Part Time                Evening      Evening        2500          2   \n",
       "4  Full Time                Evening    Whole Day        2000          3   \n",
       "\n",
       "  clientsAttended    aadharCard doorstepService  references liscenced  \\\n",
       "0              49  065660562714               no      false     false   \n",
       "1              25  394728990924               no      false     false   \n",
       "2              42  777556713881              yes       true     false   \n",
       "3              13  938143072796               no       true     false   \n",
       "4              28  112614367501              yes       true     false   \n",
       "\n",
       "  shoppingliscence  \n",
       "0             true  \n",
       "1             true  \n",
       "2            false  \n",
       "3             true  \n",
       "4             true  "
      ]
     },
<<<<<<< HEAD
     "execution_count": 10,
=======
     "execution_count": 26,
>>>>>>> 2d439fa2243ba4fa3e54aa67738530ca7122362c
     "metadata": {},
     "output_type": "execute_result"
    }
   ],
   "source": [
    "# reading data from dataset\n",
    "df = pd.read_csv('combine.csv')\n",
    "# breif about the columns in the dataset\n",
<<<<<<< HEAD
=======
    "df.columns\n",
>>>>>>> 2d439fa2243ba4fa3e54aa67738530ca7122362c
    "df.head()"
   ]
  },
  {
   "cell_type": "code",
<<<<<<< HEAD
   "execution_count": 11,
   "metadata": {},
   "outputs": [],
   "source": [
    "df = df.drop(['phoneNo','id','availabilityPreference','aadharCard','liscenced','shoppingliscence'],axis=1)\n",
    "df.dropna(inplace=True)\n",
    "# df.head()"
=======
   "execution_count": 27,
   "metadata": {},
   "outputs": [
    {
     "data": {
      "text/html": [
       "<div>\n",
       "<style>\n",
       "    .dataframe thead tr:only-child th {\n",
       "        text-align: right;\n",
       "    }\n",
       "\n",
       "    .dataframe thead th {\n",
       "        text-align: left;\n",
       "    }\n",
       "\n",
       "    .dataframe tbody tr th {\n",
       "        vertical-align: top;\n",
       "    }\n",
       "</style>\n",
       "<table border=\"1\" class=\"dataframe\">\n",
       "  <thead>\n",
       "    <tr style=\"text-align: right;\">\n",
       "      <th></th>\n",
       "      <th>location</th>\n",
       "      <th>occupation</th>\n",
       "      <th>certification</th>\n",
       "      <th>age</th>\n",
       "      <th>gender</th>\n",
       "      <th>type</th>\n",
       "      <th>availability</th>\n",
       "      <th>minimumWage</th>\n",
       "      <th>experience</th>\n",
       "      <th>clientsAttended</th>\n",
       "      <th>doorstepService</th>\n",
       "      <th>references</th>\n",
       "    </tr>\n",
       "  </thead>\n",
       "  <tbody>\n",
       "    <tr>\n",
       "      <th>0</th>\n",
       "      <td>Ambegaon</td>\n",
       "      <td>Accountant</td>\n",
       "      <td>true</td>\n",
       "      <td>26</td>\n",
       "      <td>Female</td>\n",
       "      <td>Full Time</td>\n",
       "      <td>Whole Day</td>\n",
       "      <td>9500</td>\n",
       "      <td>8</td>\n",
       "      <td>49</td>\n",
       "      <td>no</td>\n",
       "      <td>false</td>\n",
       "    </tr>\n",
       "    <tr>\n",
       "      <th>1</th>\n",
       "      <td>Ambegaon</td>\n",
       "      <td>Brick mason</td>\n",
       "      <td>true</td>\n",
       "      <td>36</td>\n",
       "      <td>Male</td>\n",
       "      <td>Part Time</td>\n",
       "      <td>Morning</td>\n",
       "      <td>4000</td>\n",
       "      <td>4</td>\n",
       "      <td>25</td>\n",
       "      <td>no</td>\n",
       "      <td>false</td>\n",
       "    </tr>\n",
       "    <tr>\n",
       "      <th>2</th>\n",
       "      <td>Ambegaon</td>\n",
       "      <td>Carpenter</td>\n",
       "      <td>true</td>\n",
       "      <td>31</td>\n",
       "      <td>Male</td>\n",
       "      <td>Part Time</td>\n",
       "      <td>Evening</td>\n",
       "      <td>5500</td>\n",
       "      <td>8</td>\n",
       "      <td>42</td>\n",
       "      <td>yes</td>\n",
       "      <td>true</td>\n",
       "    </tr>\n",
       "    <tr>\n",
       "      <th>3</th>\n",
       "      <td>Ambegaon</td>\n",
       "      <td>Cashier</td>\n",
       "      <td>false</td>\n",
       "      <td>20</td>\n",
       "      <td>Female</td>\n",
       "      <td>Part Time</td>\n",
       "      <td>Evening</td>\n",
       "      <td>2500</td>\n",
       "      <td>2</td>\n",
       "      <td>13</td>\n",
       "      <td>no</td>\n",
       "      <td>true</td>\n",
       "    </tr>\n",
       "    <tr>\n",
       "      <th>4</th>\n",
       "      <td>Ambegaon</td>\n",
       "      <td>Childcare Worker</td>\n",
       "      <td>true</td>\n",
       "      <td>33</td>\n",
       "      <td>Female</td>\n",
       "      <td>Full Time</td>\n",
       "      <td>Whole Day</td>\n",
       "      <td>2000</td>\n",
       "      <td>3</td>\n",
       "      <td>28</td>\n",
       "      <td>yes</td>\n",
       "      <td>true</td>\n",
       "    </tr>\n",
       "  </tbody>\n",
       "</table>\n",
       "</div>"
      ],
      "text/plain": [
       "   location        occupation certification age  gender       type  \\\n",
       "0  Ambegaon        Accountant          true  26  Female  Full Time   \n",
       "1  Ambegaon       Brick mason          true  36    Male  Part Time   \n",
       "2  Ambegaon         Carpenter          true  31    Male  Part Time   \n",
       "3  Ambegaon           Cashier         false  20  Female  Part Time   \n",
       "4  Ambegaon  Childcare Worker          true  33  Female  Full Time   \n",
       "\n",
       "  availability minimumWage experience clientsAttended doorstepService   \\\n",
       "0    Whole Day        9500          8              49               no   \n",
       "1      Morning        4000          4              25               no   \n",
       "2      Evening        5500          8              42              yes   \n",
       "3      Evening        2500          2              13               no   \n",
       "4    Whole Day        2000          3              28              yes   \n",
       "\n",
       "  references  \n",
       "0      false  \n",
       "1      false  \n",
       "2       true  \n",
       "3       true  \n",
       "4       true  "
      ]
     },
     "execution_count": 27,
     "metadata": {},
     "output_type": "execute_result"
    }
   ],
   "source": [
    "df = df.drop(['phoneNo','id','availabilityPreference','aadharCard','liscenced','shoppingliscence'],axis=1)\n",
    "df.dropna(inplace=True)\n",
    "df.head()"
>>>>>>> 2d439fa2243ba4fa3e54aa67738530ca7122362c
   ]
  },
  {
   "cell_type": "code",
<<<<<<< HEAD
   "execution_count": 12,
   "metadata": {},
   "outputs": [],
=======
   "execution_count": 53,
   "metadata": {},
   "outputs": [
    {
     "data": {
      "text/html": [
       "<div>\n",
       "<style>\n",
       "    .dataframe thead tr:only-child th {\n",
       "        text-align: right;\n",
       "    }\n",
       "\n",
       "    .dataframe thead th {\n",
       "        text-align: left;\n",
       "    }\n",
       "\n",
       "    .dataframe tbody tr th {\n",
       "        vertical-align: top;\n",
       "    }\n",
       "</style>\n",
       "<table border=\"1\" class=\"dataframe\">\n",
       "  <thead>\n",
       "    <tr style=\"text-align: right;\">\n",
       "      <th></th>\n",
       "      <th>location</th>\n",
       "      <th>occupation</th>\n",
       "      <th>certification</th>\n",
       "      <th>age</th>\n",
       "      <th>gender</th>\n",
       "      <th>type</th>\n",
       "      <th>availability</th>\n",
       "      <th>minimumWage</th>\n",
       "      <th>experience</th>\n",
       "      <th>clientsAttended</th>\n",
       "      <th>doorstepService</th>\n",
       "      <th>references</th>\n",
       "    </tr>\n",
       "  </thead>\n",
       "  <tbody>\n",
       "    <tr>\n",
       "      <th>0</th>\n",
       "      <td>0</td>\n",
       "      <td>0</td>\n",
       "      <td>2</td>\n",
       "      <td>8</td>\n",
       "      <td>0</td>\n",
       "      <td>0</td>\n",
       "      <td>3</td>\n",
       "      <td>16</td>\n",
       "      <td>8</td>\n",
       "      <td>39</td>\n",
       "      <td>1</td>\n",
       "      <td>0</td>\n",
       "    </tr>\n",
       "    <tr>\n",
       "      <th>1</th>\n",
       "      <td>0</td>\n",
       "      <td>1</td>\n",
       "      <td>2</td>\n",
       "      <td>18</td>\n",
       "      <td>1</td>\n",
       "      <td>1</td>\n",
       "      <td>2</td>\n",
       "      <td>5</td>\n",
       "      <td>4</td>\n",
       "      <td>15</td>\n",
       "      <td>1</td>\n",
       "      <td>0</td>\n",
       "    </tr>\n",
       "    <tr>\n",
       "      <th>2</th>\n",
       "      <td>0</td>\n",
       "      <td>2</td>\n",
       "      <td>2</td>\n",
       "      <td>13</td>\n",
       "      <td>1</td>\n",
       "      <td>1</td>\n",
       "      <td>1</td>\n",
       "      <td>8</td>\n",
       "      <td>8</td>\n",
       "      <td>32</td>\n",
       "      <td>2</td>\n",
       "      <td>2</td>\n",
       "    </tr>\n",
       "    <tr>\n",
       "      <th>3</th>\n",
       "      <td>0</td>\n",
       "      <td>3</td>\n",
       "      <td>1</td>\n",
       "      <td>2</td>\n",
       "      <td>0</td>\n",
       "      <td>1</td>\n",
       "      <td>1</td>\n",
       "      <td>2</td>\n",
       "      <td>2</td>\n",
       "      <td>3</td>\n",
       "      <td>1</td>\n",
       "      <td>2</td>\n",
       "    </tr>\n",
       "    <tr>\n",
       "      <th>4</th>\n",
       "      <td>0</td>\n",
       "      <td>4</td>\n",
       "      <td>2</td>\n",
       "      <td>15</td>\n",
       "      <td>0</td>\n",
       "      <td>0</td>\n",
       "      <td>3</td>\n",
       "      <td>1</td>\n",
       "      <td>3</td>\n",
       "      <td>18</td>\n",
       "      <td>2</td>\n",
       "      <td>2</td>\n",
       "    </tr>\n",
       "  </tbody>\n",
       "</table>\n",
       "</div>"
      ],
      "text/plain": [
       "   location  occupation  certification  age  gender  type  availability  \\\n",
       "0         0           0              2    8       0     0             3   \n",
       "1         0           1              2   18       1     1             2   \n",
       "2         0           2              2   13       1     1             1   \n",
       "3         0           3              1    2       0     1             1   \n",
       "4         0           4              2   15       0     0             3   \n",
       "\n",
       "   minimumWage  experience  clientsAttended  doorstepService   references  \n",
       "0           16           8               39                 1           0  \n",
       "1            5           4               15                 1           0  \n",
       "2            8           8               32                 2           2  \n",
       "3            2           2                3                 1           2  \n",
       "4            1           3               18                 2           2  "
      ]
     },
     "execution_count": 53,
     "metadata": {},
     "output_type": "execute_result"
    }
   ],
>>>>>>> 2d439fa2243ba4fa3e54aa67738530ca7122362c
   "source": [
    "# l = preprocessing.LabelEncoder()\n",
    "# nan_rows = df[df['location'].isnull()]\n",
    "# nan_rows\n",
    "# creating classes for dummy purpose only\n",
<<<<<<< HEAD
    "#----------------------------------------------------------------------------------------------------------------------\n",
=======
>>>>>>> 2d439fa2243ba4fa3e54aa67738530ca7122362c
    "def classes_maker():\n",
    "    for i in df.columns:\n",
    "        le = preprocessing.LabelEncoder()\n",
    "        le.fit(df[i])\n",
    "        df[i] = le.transform(df[i])\n",
    "classes_maker()\n",
<<<<<<< HEAD
    "# df.head()"
=======
    "df.head()"
>>>>>>> 2d439fa2243ba4fa3e54aa67738530ca7122362c
   ]
  },
  {
   "cell_type": "code",
<<<<<<< HEAD
   "execution_count": 13,
   "metadata": {},
   "outputs": [],
=======
   "execution_count": 79,
   "metadata": {},
   "outputs": [
    {
     "data": {
      "text/plain": [
       "14013"
      ]
     },
     "execution_count": 79,
     "metadata": {},
     "output_type": "execute_result"
    }
   ],
>>>>>>> 2d439fa2243ba4fa3e54aa67738530ca7122362c
   "source": [
    "# le.fit(df['certification'])\n",
    "# df['certification'] = le.transform(df['certification'])\n",
    "# le.fit(df['occupation'])\n",
    "# df['occupation'] = le.transform(df['occupation'])\n",
    "# le.fit(df['gender'])\n",
    "# df['gender'] = le.transform(df['gender'])\n",
    "# le.fit(df['type'])\n",
    "# df['type'] = le.transform(df['type'])\n",
    "# le.fit(df['availability'])\n",
    "# df['availability'] = le.transform(df['availability'])\n",
    "# le.fit(df['doorstepService '])\n",
    "# df['doorstepService '] = le.transform(df['doorstepService '])\n",
    "# le.fit(df['references'])\n",
    "# df['references'] = le.transform(df['references'])\n",
    "# le.fit(df['clientsAttended'])\n",
    "# df['clientsAttended'] = le.transform(df['clientsAttended'])\n",
    "# le.fit(df['experience'])\n",
    "# df['experience'] = le.transform(df['experience'])\n",
    "# df.head()\n",
<<<<<<< HEAD
    "# np.shape(df)[0]"
=======
    "np.shape(df)[0]"
>>>>>>> 2d439fa2243ba4fa3e54aa67738530ca7122362c
   ]
  },
  {
   "cell_type": "code",
<<<<<<< HEAD
   "execution_count": 29,
=======
   "execution_count": 55,
>>>>>>> 2d439fa2243ba4fa3e54aa67738530ca7122362c
   "metadata": {},
   "outputs": [
    {
     "name": "stdout",
     "output_type": "stream",
     "text": [
<<<<<<< HEAD
      "Occupation dict has been pickled.\n"
=======
      "[(2920, 14), (1001, 0), (8279, 16), (5535, 9), (11011, 0), (8718, 4), (6014, 9), (7152, 3), (6025, 22), (8929, 14), (17, 20), (2514, 17), (7519, 17), (3735, 3), (9014, 5), (9024, 18), (3610, 11), (9025, 19), (10017, 8), (13678, 14), (21, 6), (3473, 16), (8197, 8), (1021, 17), (5389, 12), (4015, 13), (6, 7), (5, 5), (7085, 13), (10030, 17), (11031, 17), (7521, 13), (4023, 22), (7781, 17), (12015, 3), (3826, 17), (8831, 17), (10016, 7), (10012, 2), (10013, 3), (12022, 11), (4005, 1), (3467, 18), (5818, 16), (1, 1), (5388, 3), (1010, 10), (9015, 7), (13120, 2), (4019, 18), (8731, 1), (6001, 9), (7998, 0), (12012, 0), (12030, 21), (6017, 13), (11032, 6), (3840, 12), (9027, 21), (4018, 16), (12018, 7), (12021, 10), (9028, 22), (2727, 10), (7592, 6), (16, 19), (5953, 20), (6022, 19), (1019, 21), (22, 12), (6004, 20), (2230, 15), (1020, 22), (2240, 11), (8837, 20), (11026, 18), (12026, 16), (10032, 12), (7, 8), (13551, 5), (6027, 6), (7717, 3), (2516, 13), (7857, 4), (12028, 19), (1016, 18), (1006, 5), (6013, 8), (6026, 17), (7508, 22), (13810, 5), (1017, 19), (3455, 5), (6028, 12), (2587, 6), (3905, 4), (8, 9), (2936, 14), (8160, 11), (8460, 5), (9026, 20), (11022, 13), (13495, 0), (3659, 21), (9021, 14), (3589, 1), (11025, 16), (13640, 7), (8500, 16), (5209, 10), (8845, 12), (9016, 8), (13415, 14), (2537, 20), (9012, 3), (7611, 15), (6021, 18), (7095, 8), (13463, 16), (11014, 3), (4006, 2), (1007, 7), (9019, 11), (2, 2), (5750, 11), (4016, 14), (8615, 11), (11020, 10), (4012, 9), (11024, 15), (3832, 20), (4017, 15), (10022, 14), (4021, 20), (11021, 11), (12013, 1), (10023, 15), (12014, 2), (9030, 6), (10010, 0), (12027, 18), (5370, 22), (3321, 6), (6024, 21), (3713, 4), (6020, 16), (2572, 18), (13152, 8), (12017, 5), (18, 21), (12023, 13), (13917, 4), (1013, 14), (11030, 22), (13925, 6), (8116, 1), (10026, 19), (13303, 8), (13389, 16), (2712, 3), (9011, 2), (7370, 0), (5408, 8), (11013, 2), (2165, 13), (1011, 11), (2902, 21), (10020, 11), (9022, 15), (1018, 20), (2147, 3), (5331, 6), (4011, 8), (8326, 6), (2993, 0), (11027, 19), (2080, 13), (11028, 20), (11033, 12), (13445, 19), (12024, 14), (12031, 22), (13257, 16), (10027, 20), (12020, 9), (19, 22), (6011, 5), (8740, 3), (12025, 15), (2503, 22), (12033, 6), (20, 17), (9017, 9), (1004, 3), (4008, 4), (10029, 22), (11016, 5), (11018, 8), (5277, 18), (3967, 4), (3274, 16), (13202, 5), (10015, 5), (8112, 2), (2365, 0), (10021, 13), (12032, 17), (5839, 6), (6016, 11), (3495, 16), (6008, 2), (7170, 13), (10025, 18), (6009, 3), (8664, 21), (6006, 0), (9010, 1), (11, 13), (1022, 6), (2090, 8), (5432, 9), (7235, 15), (7800, 20), (12, 14), (10011, 1), (5893, 11), (9031, 12), (13290, 16), (10019, 10), (13, 15), (1008, 8), (12029, 20), (13182, 2), (3607, 20), (8478, 16), (9020, 13), (11023, 14), (10024, 16), (3155, 11), (4022, 21), (5358, 8), (7832, 20), (12019, 8), (2490, 21), (3107, 2), (5926, 18), (14, 16), (7584, 0), (5157, 11), (1003, 2), (7941, 14), (9013, 4), (8752, 0), (2606, 15), (13139, 3), (5088, 3), (8612, 20), (8689, 16), (9029, 17), (4014, 11), (6019, 15), (7542, 20), (10, 11), (11029, 21), (5357, 3), (9009, 0), (4025, 6), (9023, 16), (13506, 10), (1023, 12), (10031, 6), (12034, 12), (9018, 10), (2579, 0), (4009, 5), (10014, 4), (3924, 14), (8594, 1), (1012, 13), (4007, 3), (5169, 8), (6023, 20), (1015, 16), (3, 3), (8472, 18), (12016, 4), (3747, 0), (4024, 17), (5819, 15), (4, 4), (1014, 15), (3684, 16), (3726, 1), (5156, 12), (5716, 6), (15, 18), (1002, 1), (6007, 1), (6010, 4), (6012, 7), (13952, 4), (11012, 1), (6015, 10), (4004, 0), (11017, 7), (13669, 3), (0, 0), (5769, 14), (1009, 9), (7495, 21), (10018, 9), (2776, 17), (2856, 1), (4010, 7), (2852, 4), (7577, 18), (7861, 1), (8910, 4), (11019, 9), (9, 10), (2795, 20), (6018, 14), (5475, 4), (4026, 12), (13691, 3), (5185, 2), (7925, 14), (10028, 21), (3192, 8), (3111, 1), (1005, 4), (5176, 15), (7907, 21), (11015, 4), (7732, 10), (8972, 4), (2827, 20), (4020, 19), (4013, 10), (7245, 11)]\n"
>>>>>>> 2d439fa2243ba4fa3e54aa67738530ca7122362c
     ]
    }
   ],
   "source": [
    "occupations=defaultdict(list)\n",
    "# location: index and occupation where index is the position of row in Dataframe\n",
    "def all_occupations_in_a_location():\n",
    "    for index,row in df.iterrows():\n",
    "        occupations[row['location']].append((index,row['occupation']))\n",
    "        \n",
    "    for key, values in occupations.items():\n",
    "        t_set = set(occupations.get(key))\n",
    "        occupations[key] = list(t_set)\n",
    "all_occupations_in_a_location()\n",
<<<<<<< HEAD
    "# print(occupations.get(0))\n",
    "# print(sorted(occupations.items()))\n",
=======
    "print(occupations.get(0))\n",
    "#print(sorted(occupations.items()))\n",
>>>>>>> 2d439fa2243ba4fa3e54aa67738530ca7122362c
    "# print(occupations.get(0)[2])\n",
    "# print(occupations[0][5])\n",
    "# df.head()\n",
    "# temp = occupations[0]\n",
    "# temp.sort(key=itemgetter(1))\n",
    "# print(temp)\n",
    "# print(temp[0][1])\n",
    "# indexes = []\n",
    "# print(len(occupations[0]))\n",
    "# for i in range(len(occupations.get(0))):\n",
    "#     if i+1 < len(occupations.get(0)):\n",
    "#         if temp[i][1] == temp[i+1][1]:\n",
    "#             indexes.append((temp[i+1][0],temp[i][0]))\n",
<<<<<<< HEAD
    "# print(indexes)\n",
    "# ----------------------------------------------------------------------------------------------------\n",
    "# to unpickle use \n",
    "# from ast import literal_eval\n",
    "# with open(path,'r') as f:\n",
    "# ...     type(pickle.loads(literal_eval(f.read())))\n",
    "\n",
    "with open('occupations.txt','w') as f:\n",
    "    f.write(str(pickle.dumps(occupations)))\n",
    "print(\"Occupation dict has been pickled.\")"
=======
    "# print(indexes)\n"
>>>>>>> 2d439fa2243ba4fa3e54aa67738530ca7122362c
   ]
  },
  {
   "cell_type": "code",
<<<<<<< HEAD
   "execution_count": 30,
   "metadata": {},
   "outputs": [
    {
     "ename": "MemoryError",
     "evalue": "",
     "output_type": "error",
     "traceback": [
      "\u001b[0;31m---------------------------------------------------------------------------\u001b[0m",
      "\u001b[0;31mMemoryError\u001b[0m                               Traceback (most recent call last)",
      "\u001b[0;32m<ipython-input-30-0faf123a76f1>\u001b[0m in \u001b[0;36m<module>\u001b[0;34m()\u001b[0m\n\u001b[1;32m     45\u001b[0m \u001b[0;31m# ...     type(pickle.loads(literal_eval(f.read())))\u001b[0m\u001b[0;34m\u001b[0m\u001b[0;34m\u001b[0m\u001b[0m\n\u001b[1;32m     46\u001b[0m \u001b[0;32mwith\u001b[0m \u001b[0mopen\u001b[0m\u001b[0;34m(\u001b[0m\u001b[0;34m'distance_matrix.txt'\u001b[0m\u001b[0;34m,\u001b[0m\u001b[0;34m'w'\u001b[0m\u001b[0;34m)\u001b[0m \u001b[0;32mas\u001b[0m \u001b[0mf\u001b[0m\u001b[0;34m:\u001b[0m\u001b[0;34m\u001b[0m\u001b[0m\n\u001b[0;32m---> 47\u001b[0;31m     \u001b[0mf\u001b[0m\u001b[0;34m.\u001b[0m\u001b[0mwrite\u001b[0m\u001b[0;34m(\u001b[0m\u001b[0mstr\u001b[0m\u001b[0;34m(\u001b[0m\u001b[0mpickle\u001b[0m\u001b[0;34m.\u001b[0m\u001b[0mdumps\u001b[0m\u001b[0;34m(\u001b[0m\u001b[0mdist\u001b[0m\u001b[0;34m)\u001b[0m\u001b[0;34m)\u001b[0m\u001b[0;34m)\u001b[0m\u001b[0;34m\u001b[0m\u001b[0m\n\u001b[0m\u001b[1;32m     48\u001b[0m \u001b[0mprint\u001b[0m\u001b[0;34m(\u001b[0m\u001b[0;34m'Distance has been saved '\u001b[0m\u001b[0;34m)\u001b[0m\u001b[0;34m\u001b[0m\u001b[0m\n\u001b[1;32m     49\u001b[0m \u001b[0;31m# idea is to search for the similar occupation and return its index and remove it from the list as there might be duplicates\u001b[0m\u001b[0;34m\u001b[0m\u001b[0;34m\u001b[0m\u001b[0m\n",
      "\u001b[0;31mMemoryError\u001b[0m: "
=======
   "execution_count": 80,
   "metadata": {},
   "outputs": [
    {
     "name": "stdout",
     "output_type": "stream",
     "text": [
      "[[ 0.          0.          0.         ...,  0.          0.          0.        ]\n",
      " [ 0.          0.          0.11151061 ...,  0.          0.          0.        ]\n",
      " [ 0.          0.11151061  0.         ...,  0.          0.          0.        ]\n",
      " ..., \n",
      " [ 0.          0.          0.         ...,  0.          0.          0.        ]\n",
      " [ 0.          0.          0.         ...,  0.          0.          0.        ]\n",
      " [ 0.          0.          0.         ...,  0.          0.          0.        ]]\n"
>>>>>>> 2d439fa2243ba4fa3e54aa67738530ca7122362c
     ]
    }
   ],
   "source": [
    "dist = np.ndarray(shape=(np.shape(df)[0],np.shape(df)[0]))\n",
    "def cos_func(index1,index2):\n",
    "    # will calcuate the cosine distance between 2 workers and return to helper\n",
    "    #print(index1,index2)\n",
    "    return cosine_distances(df.loc[index1].values.reshape(1, -1),df.loc[index2].values.reshape(1, -1))\n",
    "                            \n",
    "def cos_helper(indexes):\n",
    "    # worker with similar occupation in a given location is passed as 'indexes'\n",
    "    #TODO: pass pair of tuples in the 'indexes' list to the cosine distance function which will return the distance between\n",
    "    # those 2 data points and will be saved in 'dist' list w.r.t index of those points so that we have distance of all workers \n",
    "    # which we will use to make a matrix/ to cluster\n",
    "    for i in indexes:\n",
    "        for j in indexes:\n",
<<<<<<< HEAD
    "            if i != j:\n",
=======
    "            if i == j:\n",
    "                dist[i][j] = 0\n",
    "            else:\n",
>>>>>>> 2d439fa2243ba4fa3e54aa67738530ca7122362c
    "                dist[i][j] = cos_func(i,j)\n",
    "\n",
    "# find workers at a location having a specific occupation for calculating cosine distance between them\n",
    "def commonities():\n",
    "        for k, v in occupations.items(): # location iterator\n",
    "            type(occupations[k]) # list type\n",
    "            temp_list = occupations[k]\n",
    "            indexes = []\n",
    "            temp_list.sort(key=itemgetter(1)) # sort list according to occupation\n",
    "            # print(temp_list)\n",
    "                        \n",
    "            # TODO: Find similar occupations and then pass it to cosine_distance calculator\n",
    "                #print(occupations[k][l]) #tuple type\n",
    "                \n",
    "                # this will find all workers having similar occupation in a particular location\n",
    "            for i in range(len(occupations[k])):\n",
    "                if i+1 < len(occupations[k]):\n",
    "                    if temp_list[i][1] == temp_list[i+1][1]:\n",
    "                        indexes.append(temp_list[i][0])\n",
    "            #print(df.loc[indexes[4]],df.loc[indexes[1]])\n",
    "            #print(len(indexes)) total number of workers with similar occupations in a given location\n",
    "            cos_helper(indexes)\n",
    "                \n",
    "commonities()\n",
<<<<<<< HEAD
    "# print(dist)\n",
    "#-----------------------------------------------------------------------------------------------\n",
    "# TO UNPICKLE\n",
    "# with open(path,'r') as f:\n",
    "# ...     type(pickle.loads(literal_eval(f.read())))\n",
    "\n",
=======
    "print(dist)\n",
>>>>>>> 2d439fa2243ba4fa3e54aa67738530ca7122362c
    "# idea is to search for the similar occupation and return its index and remove it from the list as there might be duplicates\n",
    "\n",
    "# return index,array\n",
    "# def cos_dist():\n",
    "#     for key in occupations.keys():\n",
    "#         for l in len():\n",
    "#             dist[index].append(cosine_distances(occupations[key].reshape(1,-1),row.reshape(1,-1))))"
   ]
  },
  {
   "cell_type": "code",
<<<<<<< HEAD
   "execution_count": 35,
   "metadata": {},
   "outputs": [
    {
     "ename": "MemoryError",
     "evalue": "",
     "output_type": "error",
     "traceback": [
      "\u001b[0;31m---------------------------------------------------------------------------\u001b[0m",
      "\u001b[0;31mMemoryError\u001b[0m                               Traceback (most recent call last)",
      "\u001b[0;32m<ipython-input-35-7456448b3904>\u001b[0m in \u001b[0;36m<module>\u001b[0;34m()\u001b[0m\n\u001b[0;32m----> 1\u001b[0;31m \u001b[0mtemp_dist\u001b[0m \u001b[0;34m=\u001b[0m \u001b[0mpickle\u001b[0m\u001b[0;34m.\u001b[0m\u001b[0mdumps\u001b[0m\u001b[0;34m(\u001b[0m\u001b[0mdist\u001b[0m\u001b[0;34m)\u001b[0m\u001b[0;34m\u001b[0m\u001b[0m\n\u001b[0m\u001b[1;32m      2\u001b[0m \u001b[0mlen\u001b[0m\u001b[0;34m(\u001b[0m\u001b[0mtemp_dist\u001b[0m\u001b[0;34m)\u001b[0m\u001b[0;34m\u001b[0m\u001b[0m\n",
      "\u001b[0;31mMemoryError\u001b[0m: "
     ]
    }
   ],
   "source": [
    "temp_dist = pickle.dumps(dist)"
=======
   "execution_count": 65,
   "metadata": {},
   "outputs": [
    {
     "data": {
      "text/plain": [
       "[array([[ 0.02222183]])]"
      ]
     },
     "execution_count": 65,
     "metadata": {},
     "output_type": "execute_result"
    }
   ],
   "source": [
    "#print(cosine_distances(df.loc[0].values.reshape(1,-1),df.loc[1].values.reshape(1,-1)))\n",
    "dist[(11011,1001)]"
>>>>>>> 2d439fa2243ba4fa3e54aa67738530ca7122362c
   ]
  },
  {
   "cell_type": "code",
   "execution_count": null,
   "metadata": {
    "collapsed": true
   },
   "outputs": [],
   "source": [
<<<<<<< HEAD
    "plt.plot(dist)\n",
    "plt.show()"
=======
    "plt.plot(dist)"
>>>>>>> 2d439fa2243ba4fa3e54aa67738530ca7122362c
   ]
  },
  {
   "cell_type": "code",
<<<<<<< HEAD
   "execution_count": 43,
   "metadata": {},
   "outputs": [
    {
     "data": {
      "text/plain": [
       "array([ 0.,  0.,  0., ...,  0.,  0.,  0.])"
      ]
     },
     "execution_count": 43,
     "metadata": {},
     "output_type": "execute_result"
    }
   ],
   "source": [
    "# with open('distance_matrix.txt','w') as f:\n",
    "#     f.write(str(temp_dist))\n",
    "# print('Distance has been saved ')\n",
    "np.shape(dist)\n",
    "dist[0]"
=======
   "execution_count": null,
   "metadata": {
    "collapsed": true
   },
   "outputs": [],
   "source": [
    "show()"
>>>>>>> 2d439fa2243ba4fa3e54aa67738530ca7122362c
   ]
  },
  {
   "cell_type": "code",
   "execution_count": null,
   "metadata": {
    "collapsed": true
   },
   "outputs": [],
   "source": []
  }
 ],
 "metadata": {
  "kernelspec": {
   "display_name": "Python 3",
   "language": "python",
   "name": "python3"
  },
  "language_info": {
   "codemirror_mode": {
    "name": "ipython",
    "version": 3
   },
   "file_extension": ".py",
   "mimetype": "text/x-python",
   "name": "python",
   "nbconvert_exporter": "python",
   "pygments_lexer": "ipython3",
   "version": "3.6.4"
  }
 },
 "nbformat": 4,
 "nbformat_minor": 2
}
