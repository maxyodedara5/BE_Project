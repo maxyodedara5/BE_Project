{
 "cells": [
  {
   "cell_type": "code",
   "execution_count": 42,
   "metadata": {
    "collapsed": true
   },
   "outputs": [],
   "source": [
    "# import all the required packages\n",
    "import pandas as pd\n",
    "import numpy as np\n",
    "import matplotlib.pyplot as plt\n",
    "from collections import defaultdict,OrderedDict\n",
    "from sklearn import preprocessing\n",
    "from sklearn.metrics.pairwise import cosine_distances, euclidean_distances\n",
    "from scipy import sparse\n",
    "from operator import itemgetter\n",
    "from scipy.spatial.distance import cosine\n",
    "import json\n",
    "import pickle\n",
    "import seaborn\n",
    "from surprise import SVD\n",
    "from surprise import KNNBasic,AlgoBase"
   ]
  },
  {
   "cell_type": "code",
   "execution_count": 43,
   "metadata": {},
   "outputs": [
    {
     "name": "stdout",
     "output_type": "stream",
     "text": [
      "(1000, 18)\n"
     ]
    },
    {
     "data": {
      "text/html": [
       "<div>\n",
       "<style>\n",
       "    .dataframe thead tr:only-child th {\n",
       "        text-align: right;\n",
       "    }\n",
       "\n",
       "    .dataframe thead th {\n",
       "        text-align: left;\n",
       "    }\n",
       "\n",
       "    .dataframe tbody tr th {\n",
       "        vertical-align: top;\n",
       "    }\n",
       "</style>\n",
       "<table border=\"1\" class=\"dataframe\">\n",
       "  <thead>\n",
       "    <tr style=\"text-align: right;\">\n",
       "      <th></th>\n",
       "      <th>id</th>\n",
       "      <th>phoneNo</th>\n",
       "      <th>age</th>\n",
       "      <th>minimumWage</th>\n",
       "      <th>experience</th>\n",
       "      <th>clientsAttended</th>\n",
       "      <th>aadharCard</th>\n",
       "    </tr>\n",
       "  </thead>\n",
       "  <tbody>\n",
       "    <tr>\n",
       "      <th>count</th>\n",
       "      <td>1000.000000</td>\n",
       "      <td>1.000000e+03</td>\n",
       "      <td>1000.000000</td>\n",
       "      <td>1000.000000</td>\n",
       "      <td>1000.000000</td>\n",
       "      <td>1000.000000</td>\n",
       "      <td>1.000000e+03</td>\n",
       "    </tr>\n",
       "    <tr>\n",
       "      <th>mean</th>\n",
       "      <td>500.500000</td>\n",
       "      <td>8.771674e+09</td>\n",
       "      <td>28.375000</td>\n",
       "      <td>5901.500000</td>\n",
       "      <td>6.193000</td>\n",
       "      <td>39.988000</td>\n",
       "      <td>5.093677e+11</td>\n",
       "    </tr>\n",
       "    <tr>\n",
       "      <th>std</th>\n",
       "      <td>288.819436</td>\n",
       "      <td>8.437247e+08</td>\n",
       "      <td>6.520651</td>\n",
       "      <td>2465.588546</td>\n",
       "      <td>2.790975</td>\n",
       "      <td>14.971841</td>\n",
       "      <td>2.873929e+11</td>\n",
       "    </tr>\n",
       "    <tr>\n",
       "      <th>min</th>\n",
       "      <td>1.000000</td>\n",
       "      <td>7.001783e+09</td>\n",
       "      <td>18.000000</td>\n",
       "      <td>2000.000000</td>\n",
       "      <td>1.000000</td>\n",
       "      <td>5.000000</td>\n",
       "      <td>1.267541e+09</td>\n",
       "    </tr>\n",
       "    <tr>\n",
       "      <th>25%</th>\n",
       "      <td>250.750000</td>\n",
       "      <td>8.110433e+09</td>\n",
       "      <td>23.000000</td>\n",
       "      <td>3500.000000</td>\n",
       "      <td>4.000000</td>\n",
       "      <td>29.000000</td>\n",
       "      <td>2.512533e+11</td>\n",
       "    </tr>\n",
       "    <tr>\n",
       "      <th>50%</th>\n",
       "      <td>500.500000</td>\n",
       "      <td>9.001577e+09</td>\n",
       "      <td>28.000000</td>\n",
       "      <td>6000.000000</td>\n",
       "      <td>7.000000</td>\n",
       "      <td>43.500000</td>\n",
       "      <td>5.103412e+11</td>\n",
       "    </tr>\n",
       "    <tr>\n",
       "      <th>75%</th>\n",
       "      <td>750.250000</td>\n",
       "      <td>9.482632e+09</td>\n",
       "      <td>34.000000</td>\n",
       "      <td>8000.000000</td>\n",
       "      <td>9.000000</td>\n",
       "      <td>52.000000</td>\n",
       "      <td>7.495910e+11</td>\n",
       "    </tr>\n",
       "    <tr>\n",
       "      <th>max</th>\n",
       "      <td>1000.000000</td>\n",
       "      <td>9.997569e+09</td>\n",
       "      <td>40.000000</td>\n",
       "      <td>10000.000000</td>\n",
       "      <td>10.000000</td>\n",
       "      <td>60.000000</td>\n",
       "      <td>9.997775e+11</td>\n",
       "    </tr>\n",
       "  </tbody>\n",
       "</table>\n",
       "</div>"
      ],
      "text/plain": [
       "                id       phoneNo          age   minimumWage   experience  \\\n",
       "count  1000.000000  1.000000e+03  1000.000000   1000.000000  1000.000000   \n",
       "mean    500.500000  8.771674e+09    28.375000   5901.500000     6.193000   \n",
       "std     288.819436  8.437247e+08     6.520651   2465.588546     2.790975   \n",
       "min       1.000000  7.001783e+09    18.000000   2000.000000     1.000000   \n",
       "25%     250.750000  8.110433e+09    23.000000   3500.000000     4.000000   \n",
       "50%     500.500000  9.001577e+09    28.000000   6000.000000     7.000000   \n",
       "75%     750.250000  9.482632e+09    34.000000   8000.000000     9.000000   \n",
       "max    1000.000000  9.997569e+09    40.000000  10000.000000    10.000000   \n",
       "\n",
       "       clientsAttended    aadharCard  \n",
       "count      1000.000000  1.000000e+03  \n",
       "mean         39.988000  5.093677e+11  \n",
       "std          14.971841  2.873929e+11  \n",
       "min           5.000000  1.267541e+09  \n",
       "25%          29.000000  2.512533e+11  \n",
       "50%          43.500000  5.103412e+11  \n",
       "75%          52.000000  7.495910e+11  \n",
       "max          60.000000  9.997775e+11  "
      ]
     },
     "execution_count": 43,
     "metadata": {},
     "output_type": "execute_result"
    }
   ],
   "source": [
    "# reading data from dataset\n",
    "df = pd.read_csv('temp/db1.csv')\n",
    "# breif about the columns in the dataset\n",
    "df.head(3)\n",
    "print(np.shape(df))\n",
    "df.describe()"
   ]
  },
  {
   "cell_type": "code",
   "execution_count": 44,
   "metadata": {
    "collapsed": true
   },
   "outputs": [],
   "source": [
    "df = df.drop(['phoneNo','id','availabilityPreference','aadharCard','liscenced','shoppingliscence'],axis=1)\n",
    "#df.drop_duplicates(inplace=True)\n",
    "df.dropna(inplace=True)\n",
    "# df.fillna(0,inplace=True)\n",
    "# df.head()"
   ]
  },
  {
   "cell_type": "code",
   "execution_count": 45,
   "metadata": {
    "collapsed": true
   },
   "outputs": [],
   "source": [
    "# l = preprocessing.LabelEncoder()\n",
    "# nan_rows = df[df['location'].isnull()]\n",
    "# nan_rows\n",
    "# creating classes for dummy purpose only\n",
    "#----------------------------------------------------------------------------------------------------------------------\n",
    "def classes_maker():\n",
    "    for i in df.columns:\n",
    "        le = preprocessing.LabelEncoder()\n",
    "        le.fit(df[i])\n",
    "        df[i] = le.transform(df[i])\n",
    "classes_maker()\n",
    "# df.head()\n",
    "# le = preprocessing.LabelEncoder()\n",
    "# le.fit_transform(df['location'])\n",
    "# df['location']"
   ]
  },
  {
   "cell_type": "code",
   "execution_count": 46,
   "metadata": {},
   "outputs": [
    {
     "data": {
      "text/plain": [
       "(1000, 12)"
      ]
     },
     "execution_count": 46,
     "metadata": {},
     "output_type": "execute_result"
    }
   ],
   "source": [
    "# le.fit(df['certification'])\n",
    "# df['certification'] = le.transform(df['certification'])\n",
    "# le.fit(df['occupation'])\n",
    "# df['occupation'] = le.transform(df['occupation'])\n",
    "# le.fit(df['gender'])\n",
    "# df['gender'] = le.transform(df['gender'])\n",
    "# le.fit(df['type'])\n",
    "# df['type'] = le.transform(df['type'])\n",
    "# le.fit(df['availability'])\n",
    "# df['availability'] = le.transform(df['availability'])\n",
    "# le.fit(df['doorstepService '])\n",
    "# df['doorstepService '] = le.transform(df['doorstepService '])\n",
    "# le.fit(df['references'])\n",
    "# df['references'] = le.transform(df['references'])\n",
    "# le.fit(df['clientsAttended'])\n",
    "# df['clientsAttended'] = le.transform(df['clientsAttended'])\n",
    "# le.fit(df['experience'])\n",
    "# df['experience'] = le.transform(df['experience'])\n",
    "# df.head()\n",
    "# np.shape(df)[0]\n",
    "np.shape(df)\n",
    "# df.head(10002)"
   ]
  },
  {
   "cell_type": "code",
   "execution_count": 47,
   "metadata": {},
   "outputs": [
    {
     "name": "stdout",
     "output_type": "stream",
     "text": [
      "Occupation dict has been pickled.\n"
     ]
    }
   ],
   "source": [
    "occupations=defaultdict(list)\n",
    "# location: index and occupation where index is the position of row in Dataframe\n",
    "def all_occupations_in_a_location():\n",
    "    for index,row in df.iterrows():\n",
    "        occupations[row['location']].append((index,row['occupation']))\n",
    "        \n",
    "    for key, values in occupations.items():\n",
    "        t_set = list(set(occupations.get(key)))\n",
    "        occupations[key] = t_set\n",
    "all_occupations_in_a_location()\n",
    "# print(occupations.get(0))\n",
    "# print(sorted(occupations.items()))\n",
    "# print(occupations.get(0)[2])\n",
    "# print(occupations[0][5])\n",
    "# df.head()\n",
    "# temp = occupations[0]\n",
    "# temp.sort(key=itemgetter(1))\n",
    "# print(temp)\n",
    "# print(temp[0][1])\n",
    "# indexes = []\n",
    "# print(len(occupations[0]))\n",
    "# for i in range(len(occupations.get(0))):\n",
    "#     if i+1 < len(occupations.get(0)):\n",
    "#         if temp[i][1] == temp[i+1][1]:\n",
    "#             indexes.append((temp[i+1][0],temp[i][0]))\n",
    "# print(indexes)\n",
    "# ----------------------------------------------------------------------------------------------------\n",
    "# to unpickle use \n",
    "# from ast import literal_eval\n",
    "# with open(path,'r') as f:\n",
    "# ...     type(pickle.loads(literal_eval(f.read())))\n",
    "\n",
    "with open('occupations.txt','w') as f:\n",
    "    f.write(str(pickle.dumps(occupations)))\n",
    "print(\"Occupation dict has been pickled.\")"
   ]
  },
  {
   "cell_type": "code",
   "execution_count": 319,
   "metadata": {
    "collapsed": true
   },
   "outputs": [],
   "source": [
    "# cosdist = np.ndarray(shape=(np.shape(df)[0],np.shape(df)[0]))\n",
    "# eucdist = np.ndarray(shape=(np.shape(df)[0],np.shape(df)[0]))\n",
    "# def cos_func(index1,index2):\n",
    "#     # will calcuate the cosine distance between 2 workers and return to helper\n",
    "#     #print(index1,index2)\n",
    "#     return cosine_distances(df.loc[index1].values.reshape(1, -1),df.loc[index2].values.reshape(1, -1))\n",
    "\n",
    "# def euc_dist(index1,index2):\n",
    "#     return euclidean_distances(df.loc[index1].values.reshape(1, -1),df.loc[index2].values.reshape(1, -1))\n",
    "\n",
    "\n",
    "# def cos_helper(indexes):\n",
    "#     # worker with similar occupation in a given location is passed as 'indexes'\n",
    "#     #TODO: pass pair of tuples in the 'indexes' list to the cosine distance function which will return the distance between\n",
    "#     # those 2 data points and will be saved in 'dist' list w.r.t index of those points so that we have distance of all workers \n",
    "#     # which we will use to make a matrix/ to cluster\n",
    "#     for i in indexes:\n",
    "#         for j in indexes:\n",
    "#             if i != j:\n",
    "#                 cosdist[int(i)][int(j)] = cos_func(i,j)\n",
    "#                 eucdist[int(i)][int(j)] = euc_dist(i,j)\n",
    "\n",
    "\n",
    "# # find workers at a location having a specific occupation for calculating cosine distance between them\n",
    "# def commonities():\n",
    "#         for k, v in occupations.items(): # location iterator\n",
    "#             type(occupations[k]) # list type\n",
    "#             temp_list = occupations[k]\n",
    "#             indexes = np.array([])\n",
    "#             temp_list.sort(key=itemgetter(1)) # sort list according to occupation\n",
    "#             # print(temp_list)\n",
    "                        \n",
    "#             # TODO: Find similar occupations and then pass it to cosine_distance calculator\n",
    "#                 #print(occupations[k][l]) #tuple type\n",
    "                \n",
    "#                 # this will find all workers having similar occupation in a particular location\n",
    "#                 # append only the index of worker\n",
    "#             for i in range(len(occupations[k])):\n",
    "#                 if i+1 < len(occupations[k]):\n",
    "#                     if temp_list[i][1] == temp_list[i+1][1]:\n",
    "#                         indexes = np.append(indexes,temp_list[i][0])\n",
    "#                         indexes = np.append(indexes,temp_list[i+1][0])\n",
    "#             #print(df.loc[indexes[4]],df.loc[indexes[1]])\n",
    "#             #print(len(indexes)) total number of workers with similar occupations in a given location\n",
    "#             cos_helper(indexes)\n",
    "                \n",
    "# commonities()\n",
    "# # print(dist)\n",
    "# #-----------------------------------------------------------------------------------------------\n",
    "# # TO UNPICKLE\n",
    "# # with open(path,'r') as f:\n",
    "# # ...     type(pickle.loads(literal_eval(f.read())))\n",
    "\n",
    "# # idea is to search for the similar occupation and return its index and remove it from the list as there might be duplicates\n",
    "\n",
    "# # return index,array\n",
    "# # def cos_dist():\n",
    "# #     for key in occupations.keys():\n",
    "# #         for l in len():\n",
    "# #             dist[index].append(cosine_distances(occupations[key].reshape(1,-1),row.reshape(1,-1))))\n",
    "# print('done')"
   ]
  },
  {
   "cell_type": "code",
   "execution_count": 41,
   "metadata": {},
   "outputs": [],
   "source": [
    "#Euclidean distance between items\n",
    "euc_dist = euclidean_distances(sparse.csr_matrix(df))\n",
    "#Cosine distance between items\n",
    "cos_dist = cosine_distances(sparse.csr_matrix(df))"
   ]
  },
  {
   "cell_type": "code",
   "execution_count": 40,
   "metadata": {},
   "outputs": [
    {
     "name": "stdout",
     "output_type": "stream",
     "text": [
      "Stored 'euc_dist' (ndarray)\n",
      "Stored 'cos_dist' (ndarray)\n"
     ]
    }
   ],
   "source": [
    "%store euc_dist\n",
    "%store cos_dist"
   ]
  },
  {
   "cell_type": "code",
   "execution_count": 49,
   "metadata": {},
   "outputs": [
    {
     "data": {
      "text/plain": [
       "array([[ 0.        ,  0.15431467,  0.02523744, ...,  0.39762922,\n",
       "         0.23352023,  0.46457129],\n",
       "       [ 0.15431467,  0.        ,  0.07727058, ...,  0.40860244,\n",
       "         0.41074464,  0.47503188],\n",
       "       [ 0.02523744,  0.07727058,  0.        , ...,  0.36284122,\n",
       "         0.26101882,  0.43543216],\n",
       "       ..., \n",
       "       [ 0.39762922,  0.40860244,  0.36284122, ...,  0.        ,\n",
       "         0.06580191,  0.00826849],\n",
       "       [ 0.23352023,  0.41074464,  0.26101882, ...,  0.06580191,\n",
       "         0.        ,  0.07870348],\n",
       "       [ 0.46457129,  0.47503188,  0.43543216, ...,  0.00826849,\n",
       "         0.07870348,  0.        ]])"
      ]
     },
     "execution_count": 49,
     "metadata": {},
     "output_type": "execute_result"
    }
   ],
   "source": [
    "cos_dist"
   ]
  },
  {
   "cell_type": "code",
   "execution_count": 50,
   "metadata": {},
   "outputs": [
    {
     "data": {
      "text/plain": [
       "array([[  0.        ,  28.58321186,  12.24744871, ...,  47.75981575,\n",
       "         45.61797891,  49.16299421],\n",
       "       [ 28.58321186,   0.        ,  18.52025918, ...,  46.84015371,\n",
       "         58.54912467,  45.67274899],\n",
       "       [ 12.24744871,  18.52025918,   0.        , ...,  44.50842617,\n",
       "         48.77499359,  45.46427169],\n",
       "       ..., \n",
       "       [ 47.75981575,  46.84015371,  44.50842617, ...,   0.        ,\n",
       "         26.41968963,   8.1240384 ],\n",
       "       [ 45.61797891,  58.54912467,  48.77499359, ...,  26.41968963,\n",
       "          0.        ,  29.563491  ],\n",
       "       [ 49.16299421,  45.67274899,  45.46427169, ...,   8.1240384 ,\n",
       "         29.563491  ,   0.        ]])"
      ]
     },
     "execution_count": 50,
     "metadata": {},
     "output_type": "execute_result"
    }
   ],
   "source": [
    "euc_dist"
   ]
  }
 ],
 "metadata": {
  "kernelspec": {
   "display_name": "Python 3",
   "language": "python",
   "name": "python3"
  },
  "language_info": {
   "codemirror_mode": {
    "name": "ipython",
    "version": 3
   },
   "file_extension": ".py",
   "mimetype": "text/x-python",
   "name": "python",
   "nbconvert_exporter": "python",
   "pygments_lexer": "ipython3",
   "version": "3.6.4"
  }
 },
 "nbformat": 4,
 "nbformat_minor": 2
}
