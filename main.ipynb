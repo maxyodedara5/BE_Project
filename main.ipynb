{
 "cells": [
  {
   "cell_type": "code",
   "execution_count": 1,
   "metadata": {
    "collapsed": true
   },
   "outputs": [],
   "source": [
    "# import all the required packages\n",
    "import pandas as pd\n",
    "import numpy as np\n",
    "import matplotlib.pyplot as plt\n",
    "from collections import defaultdict,OrderedDict\n",
    "from sklearn import preprocessing\n",
    "from sklearn.metrics.pairwise import cosine_distances\n",
    "from operator import itemgetter\n",
    "from scipy.spatial.distance import cosine\n",
    "import json\n",
    "import pickle"
   ]
  },
  {
   "cell_type": "code",
   "execution_count": 2,
   "metadata": {},
   "outputs": [
    {
     "data": {
      "text/html": [
       "<div>\n",
       "<style>\n",
       "    .dataframe thead tr:only-child th {\n",
       "        text-align: right;\n",
       "    }\n",
       "\n",
       "    .dataframe thead th {\n",
       "        text-align: left;\n",
       "    }\n",
       "\n",
       "    .dataframe tbody tr th {\n",
       "        vertical-align: top;\n",
       "    }\n",
       "</style>\n",
       "<table border=\"1\" class=\"dataframe\">\n",
       "  <thead>\n",
       "    <tr style=\"text-align: right;\">\n",
       "      <th></th>\n",
       "      <th>id</th>\n",
       "      <th>phoneNo</th>\n",
       "      <th>location</th>\n",
       "      <th>occupation</th>\n",
       "      <th>certification</th>\n",
       "      <th>age</th>\n",
       "      <th>gender</th>\n",
       "      <th>type</th>\n",
       "      <th>availabilityPreference</th>\n",
       "      <th>availability</th>\n",
       "      <th>minimumWage</th>\n",
       "      <th>experience</th>\n",
       "      <th>clientsAttended</th>\n",
       "      <th>aadharCard</th>\n",
       "      <th>doorstepService</th>\n",
       "      <th>references</th>\n",
       "      <th>liscenced</th>\n",
       "      <th>shoppingliscence</th>\n",
       "    </tr>\n",
       "  </thead>\n",
       "  <tbody>\n",
       "    <tr>\n",
       "      <th>0</th>\n",
       "      <td>1</td>\n",
       "      <td>9326523642</td>\n",
       "      <td>Ambegaon</td>\n",
       "      <td>Accountant</td>\n",
       "      <td>true</td>\n",
       "      <td>26</td>\n",
       "      <td>Female</td>\n",
       "      <td>Full Time</td>\n",
       "      <td>Afternoon</td>\n",
       "      <td>Whole Day</td>\n",
       "      <td>9500</td>\n",
       "      <td>8</td>\n",
       "      <td>49</td>\n",
       "      <td>065660562714</td>\n",
       "      <td>no</td>\n",
       "      <td>false</td>\n",
       "      <td>false</td>\n",
       "      <td>true</td>\n",
       "    </tr>\n",
       "    <tr>\n",
       "      <th>1</th>\n",
       "      <td>2</td>\n",
       "      <td>7029738484</td>\n",
       "      <td>Ambegaon</td>\n",
       "      <td>Brick mason</td>\n",
       "      <td>true</td>\n",
       "      <td>36</td>\n",
       "      <td>Male</td>\n",
       "      <td>Part Time</td>\n",
       "      <td>Morning</td>\n",
       "      <td>Morning</td>\n",
       "      <td>4000</td>\n",
       "      <td>4</td>\n",
       "      <td>25</td>\n",
       "      <td>394728990924</td>\n",
       "      <td>no</td>\n",
       "      <td>false</td>\n",
       "      <td>false</td>\n",
       "      <td>true</td>\n",
       "    </tr>\n",
       "    <tr>\n",
       "      <th>2</th>\n",
       "      <td>3</td>\n",
       "      <td>8386070476</td>\n",
       "      <td>Ambegaon</td>\n",
       "      <td>Carpenter</td>\n",
       "      <td>true</td>\n",
       "      <td>31</td>\n",
       "      <td>Male</td>\n",
       "      <td>Part Time</td>\n",
       "      <td>Evening</td>\n",
       "      <td>Evening</td>\n",
       "      <td>5500</td>\n",
       "      <td>8</td>\n",
       "      <td>42</td>\n",
       "      <td>777556713881</td>\n",
       "      <td>yes</td>\n",
       "      <td>true</td>\n",
       "      <td>false</td>\n",
       "      <td>false</td>\n",
       "    </tr>\n",
       "    <tr>\n",
       "      <th>3</th>\n",
       "      <td>4</td>\n",
       "      <td>8208265762</td>\n",
       "      <td>Ambegaon</td>\n",
       "      <td>Cashier</td>\n",
       "      <td>false</td>\n",
       "      <td>20</td>\n",
       "      <td>Female</td>\n",
       "      <td>Part Time</td>\n",
       "      <td>Evening</td>\n",
       "      <td>Evening</td>\n",
       "      <td>2500</td>\n",
       "      <td>2</td>\n",
       "      <td>13</td>\n",
       "      <td>938143072796</td>\n",
       "      <td>no</td>\n",
       "      <td>true</td>\n",
       "      <td>false</td>\n",
       "      <td>true</td>\n",
       "    </tr>\n",
       "    <tr>\n",
       "      <th>4</th>\n",
       "      <td>5</td>\n",
       "      <td>9127458171</td>\n",
       "      <td>Ambegaon</td>\n",
       "      <td>Childcare Worker</td>\n",
       "      <td>true</td>\n",
       "      <td>33</td>\n",
       "      <td>Female</td>\n",
       "      <td>Full Time</td>\n",
       "      <td>Evening</td>\n",
       "      <td>Whole Day</td>\n",
       "      <td>2000</td>\n",
       "      <td>3</td>\n",
       "      <td>28</td>\n",
       "      <td>112614367501</td>\n",
       "      <td>yes</td>\n",
       "      <td>true</td>\n",
       "      <td>false</td>\n",
       "      <td>true</td>\n",
       "    </tr>\n",
       "  </tbody>\n",
       "</table>\n",
       "</div>"
      ],
      "text/plain": [
       "  id     phoneNo  location        occupation certification age  gender  \\\n",
       "0  1  9326523642  Ambegaon        Accountant          true  26  Female   \n",
       "1  2  7029738484  Ambegaon       Brick mason          true  36    Male   \n",
       "2  3  8386070476  Ambegaon         Carpenter          true  31    Male   \n",
       "3  4  8208265762  Ambegaon           Cashier         false  20  Female   \n",
       "4  5  9127458171  Ambegaon  Childcare Worker          true  33  Female   \n",
       "\n",
       "        type availabilityPreference availability minimumWage experience  \\\n",
       "0  Full Time              Afternoon    Whole Day        9500          8   \n",
       "1  Part Time                Morning      Morning        4000          4   \n",
       "2  Part Time                Evening      Evening        5500          8   \n",
       "3  Part Time                Evening      Evening        2500          2   \n",
       "4  Full Time                Evening    Whole Day        2000          3   \n",
       "\n",
       "  clientsAttended    aadharCard doorstepService  references liscenced  \\\n",
       "0              49  065660562714               no      false     false   \n",
       "1              25  394728990924               no      false     false   \n",
       "2              42  777556713881              yes       true     false   \n",
       "3              13  938143072796               no       true     false   \n",
       "4              28  112614367501              yes       true     false   \n",
       "\n",
       "  shoppingliscence  \n",
       "0             true  \n",
       "1             true  \n",
       "2            false  \n",
       "3             true  \n",
       "4             true  "
      ]
     },
     "execution_count": 2,
     "metadata": {},
     "output_type": "execute_result"
    }
   ],
   "source": [
    "# reading data from dataset\n",
    "df = pd.read_csv('combine.csv')\n",
    "# breif about the columns in the dataset\n",
    "df.head()"
   ]
  },
  {
   "cell_type": "code",
   "execution_count": 3,
   "metadata": {
    "collapsed": true
   },
   "outputs": [],
   "source": [
    "df = df.drop(['phoneNo','id','availabilityPreference','aadharCard','liscenced','shoppingliscence'],axis=1)\n",
    "df.dropna(inplace=True)\n",
    "# df.head()"
   ]
  },
  {
   "cell_type": "code",
   "execution_count": 4,
   "metadata": {
    "collapsed": true
   },
   "outputs": [],
   "source": [
    "def classes_maker():\n",
    "    for i in df.columns:\n",
    "        le = preprocessing.LabelEncoder()\n",
    "        le.fit(df[i])\n",
    "        df[i] = le.transform(df[i])\n",
    "classes_maker()"
   ]
  },
  {
   "cell_type": "code",
   "execution_count": 5,
   "metadata": {
    "collapsed": true
   },
   "outputs": [],
   "source": [
    "occupations=defaultdict(list)\n",
    "def all_occupations_in_a_location():\n",
    "    for index,row in df.iterrows():\n",
    "        occupations[row['location']].append((index,row['occupation']))\n",
    "        \n",
    "    for key, values in occupations.items():\n",
    "        t_set = set(occupations.get(key))\n",
    "        occupations[key] = list(t_set)\n",
    "all_occupations_in_a_location()"
   ]
  },
  {
   "cell_type": "code",
   "execution_count": 6,
   "metadata": {},
   "outputs": [
    {
     "name": "stdout",
     "output_type": "stream",
     "text": [
      "Occupation dict has been pickled.\n"
     ]
    }
   ],
   "source": [
    "with open('occupations.txt','w') as f:\n",
    "    f.write(str(pickle.dumps(occupations)))\n",
    "print(\"Occupation dict has been pickled.\")"
   ]
  },
  {
   "cell_type": "code",
   "execution_count": null,
   "metadata": {
    "collapsed": true
   },
   "outputs": [],
   "source": [
    "dist = np.ndarray(shape=(np.shape(df)[0],np.shape(df)[0]))\n",
    "def cos_func(index1,index2):\n",
    "    return cosine_distances(df.loc[index1].values.reshape(1, -1),df.loc[index2].values.reshape(1, -1))\n",
    "\n",
    "def cos_helper(indexes):\n",
    "    for i in indexes:\n",
    "        for j in indexes:\n",
    "            if i != j:\n",
    "                dist[i][j] = cos_func(i,j)\n",
    "\n",
    "def commonities():\n",
    "        for k, v in occupations.items(): # location iterator\n",
    "            type(occupations[k]) # list type\n",
    "            temp_list = occupations[k]\n",
    "            indexes = []\n",
    "            temp_list.sort(key=itemgetter(1)) # sort list according to occupation\n",
    "            \n",
    "            for i in range(len(occupations[k])):\n",
    "                if i+1 < len(occupations[k]):\n",
    "                    if temp_list[i][1] == temp_list[i+1][1]:\n",
    "                        indexes.append(temp_list[i][0])\n",
    "            cos_helper(indexes)\n",
    "                \n",
    "commonities()\n",
    "print('Distances calculated')"
   ]
  },
  {
   "cell_type": "code",
   "execution_count": null,
   "metadata": {
    "collapsed": true
   },
   "outputs": [],
   "source": [
    "plt.plot(dist)\n",
    "plt.show()"
   ]
  }
 ],
 "metadata": {
  "kernelspec": {
   "display_name": "Python 3",
   "language": "python",
   "name": "python3"
  },
  "language_info": {
   "codemirror_mode": {
    "name": "ipython",
    "version": 3
   },
   "file_extension": ".py",
   "mimetype": "text/x-python",
   "name": "python",
   "nbconvert_exporter": "python",
   "pygments_lexer": "ipython3",
   "version": "3.6.4"
  }
 },
 "nbformat": 4,
 "nbformat_minor": 2
}
