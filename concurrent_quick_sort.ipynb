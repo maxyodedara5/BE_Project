{
 "cells": [
  {
   "cell_type": "code",
   "execution_count": 5,
   "metadata": {},
   "outputs": [
    {
     "name": "stdout",
     "output_type": "stream",
     "text": [
      "thead <_MainThread(MainThread, started 139983162648320)> is sorting [70, 20, 10, 1, 10]\n",
      "thead <Thread(Thread-9, started 139982930470656)> is sorting [10]\n",
      "thead <Thread(Thread-10, started 139982446524160)> is sorting [20, 70]\n",
      "thead <Thread(Thread-11, started 139982930470656)> is sorting [20]\n",
      "[1, 10, 10, 12, 20, 70]\n"
     ]
    }
   ],
   "source": [
    "from threading import Thread\n",
    "import threading\n",
    "import time\n",
    "\n",
    "def qsort(sets,left,right):\n",
    "\n",
    "    print(\"thead {0} is sorting {1}\".format(threading.current_thread(), sets[left:right]))\n",
    "\n",
    "    i = left\n",
    "    j = right\n",
    "    pivot = sets[int((left + right)/2)]\n",
    "    temp = 0\n",
    "    while(i <= j):\n",
    "         while(pivot > sets[i]):\n",
    "             i = i+1\n",
    "         while(pivot < sets[j]):\n",
    "             j = j-1\n",
    "         if(i <= j):\n",
    "             temp = sets[i]     \n",
    "             sets[i] = sets[j]\n",
    "             sets[j] = temp\n",
    "             i = i + 1\n",
    "             j = j - 1\n",
    "\n",
    "    lthread = None\n",
    "    rthread = None\n",
    "\n",
    "    if (left < j):\n",
    "        lthread = Thread(target = lambda: qsort(sets,left,j))\n",
    "        lthread.start()\n",
    "\n",
    "    if (i < right):\n",
    "        rthread = Thread(target=lambda: qsort(sets,i,right))\n",
    "        rthread.start()\n",
    "\n",
    "    if lthread is not None: lthread.join()\n",
    "    if rthread is not None: rthread.join()\n",
    "    return sets\n",
    "\n",
    "\n",
    "'''testing below'''\n",
    "ls = [70,20,10,1,10,12]\n",
    "res = qsort(ls, 0, len(ls) - 1)\n",
    "print(res)"
   ]
  },
  {
   "cell_type": "code",
   "execution_count": null,
   "metadata": {
    "collapsed": true
   },
   "outputs": [],
   "source": []
  }
 ],
 "metadata": {
  "kernelspec": {
   "display_name": "Python 3",
   "language": "python",
   "name": "python3"
  },
  "language_info": {
   "codemirror_mode": {
    "name": "ipython",
    "version": 3
   },
   "file_extension": ".py",
   "mimetype": "text/x-python",
   "name": "python",
   "nbconvert_exporter": "python",
   "pygments_lexer": "ipython3",
   "version": "3.6.1"
  }
 },
 "nbformat": 4,
 "nbformat_minor": 2
}
